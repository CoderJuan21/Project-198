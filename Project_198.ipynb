{
  "nbformat": 4,
  "nbformat_minor": 0,
  "metadata": {
    "colab": {
      "name": "Project-198.ipynb",
      "provenance": [],
      "authorship_tag": "ABX9TyOxwJ4gZR1rz3qT8z4I+AG8",
      "include_colab_link": true
    },
    "kernelspec": {
      "name": "python3",
      "display_name": "Python 3"
    },
    "language_info": {
      "name": "python"
    }
  },
  "cells": [
    {
      "cell_type": "markdown",
      "metadata": {
        "id": "view-in-github",
        "colab_type": "text"
      },
      "source": [
        "<a href=\"https://colab.research.google.com/github/CoderJuan21/Project-198/blob/main/Project_198.ipynb\" target=\"_parent\"><img src=\"https://colab.research.google.com/assets/colab-badge.svg\" alt=\"Open In Colab\"/></a>"
      ]
    },
    {
      "cell_type": "code",
      "execution_count": null,
      "metadata": {
        "colab": {
          "base_uri": "https://localhost:8080/"
        },
        "id": "EBVdN4h26F1I",
        "outputId": "5d7ebe83-d8eb-4135-9419-42c4d5cd4ff6"
      },
      "outputs": [
        {
          "output_type": "stream",
          "name": "stdout",
          "text": [
            "Name of CustomerJuan\n",
            "Enter Cost of item and quantity\n",
            "item cost:100\n",
            "quantity:2\n",
            "Do you want to add more items?(Y/N?)N\n",
            "__________________________________________________\n",
            "name: Juan\n",
            "total bill: 200.0\n",
            "Name of CustomerJuan\n",
            "Enter Cost of item and quantity\n",
            "item cost:12\n",
            "quantity:4\n",
            "Do you want to add more items?(Y/N?)Y\n",
            "Enter Cost of item and quantity\n",
            "item cost:54\n",
            "quantity:35\n",
            "Do you want to add more items?(Y/N?)N\n",
            "__________________________________________________\n",
            "name: Juan\n",
            "total bill: 1938.0\n"
          ]
        }
      ],
      "source": [
        "while True:\n",
        "  total=0\n",
        "  customer_name = input(\"Name of Customer\")\n",
        "  while True:\n",
        "    print(\"Enter Cost of item and quantity\")\n",
        "    cost=float(input(\"item cost:\"))\n",
        "    quantity=int(input(\"quantity:\"))\n",
        "    total+= cost*quantity\n",
        "    repeat = input(\"Do you want to add more items?(Y/N?)\")\n",
        "    if repeat == \"N\" or repeat == \"n\":\n",
        "      break\n",
        "  print(\"_\"*50)\n",
        "  print(\"name:\", customer_name)\n",
        "  print(\"total bill:\", total)"
      ]
    }
  ]
}